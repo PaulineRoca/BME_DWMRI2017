{
 "cells": [
  {
   "cell_type": "markdown",
   "metadata": {},
   "source": [
    "# Tractography: from diffusion-weighted MRI to brain anatomical connectivity"
   ]
  },
  {
   "cell_type": "markdown",
   "metadata": {},
   "source": [
    "Pauline Roca, Sainte Anne"
   ]
  },
  {
   "cell_type": "markdown",
   "metadata": {},
   "source": [
    "UE 3.11b – Advanced NeuroImaging Data\n",
    "Modeling and Analysis <a id='tableofcontents'></a>"
   ]
  },
  {
   "cell_type": "markdown",
   "metadata": {},
   "source": [
    "### <a href='#keypoints'>1. Diffusion Theory: key points</a>\n",
    "#### <a href='#Whydowedodiffusion'>a. Why do we do diffusion MRI ?</a>\n",
    "\n",
    "#### <a href='#diffusionprinciple'>b. Diffusion principle</a>\n",
    "\n",
    "#### <a href='#diffusioninthebrain'>c. Diffusion in the brain</a>\n",
    "\n",
    "#### <a href='#diffusionmrsignal'>d. Diffusion MR signal</a>####\n",
    "\n",
    "#### <a href='#diffusionmrsignalspatialscales'>Exercise 1: diffusion MR signal and spatial scales </a>####\n",
    "\n",
    "### <a href='#manipulatediffusiondata'>2. Familiarize yourself with diffusion data</a>###\n",
    "\n",
    "#### <a href='#diffusionMRscannerdata'>a. Diffusion MR scanner data</a>####\n",
    "\n",
    "\n",
    "#### <a href='#manipulatediffusiondatapython'>b. Exercise 2. Diffusion MR signal depends on brain tissue</a>####\n",
    "\n",
    "#### <a href='#diffusiondirection'>c. Exercise 3. Diffusion weighting directions and fiber tract orientation </a>####\n",
    "\n",
    "### <a href='#newdiffusiondatasetexploration'>3. Explore a new diffusion dataset, Exercice 4</a>\n",
    "\n",
    "### <a href='#localmodeling'>4. Local modeling of the diffusion phenomenon</a>###\n",
    "#### <a href='#localmodelingusingdipy'>Exercise 5. Local Modeling using dipy</a>####\n",
    "#### <a href='#dtimodeldipy'>a. Diffusion tensor model</a>####\n",
    "#### <a href='#sphericalharmonicmodeldipy'>b. Spherical harmonic model</a>####\n",
    "\n",
    "\n",
    "\n",
    "### <a href='#tractographybonusdipy'>5. Tractography</a>\n",
    "\n",
    "### <a href='#bonus'>BONUS</a>###\n",
    "\n",
    "#### <a href='#preprocessings'>B1. Preprocessings: Correction for susceptibility-induced distortions</a>###\n",
    "##### <a href='#preprocessingsvisu'>Exercise 6. Visualisation of the artifacts</a>####\n",
    "\n",
    "#### <a href='#brainsegmentation'>B2. Brain segmentation and diffusion weighted imaging\n",
    "#### <a href='#localmodelingbonusfsl'>B3. Local modeling using FSL</a>####\n",
    "#### <a href='#tractographybonusfsl'>B4. Tractography with FSL</a>####"
   ]
  },
  {
   "cell_type": "markdown",
   "metadata": {},
   "source": [
    "<a id='keypoints'></a>"
   ]
  },
  {
   "cell_type": "markdown",
   "metadata": {},
   "source": [
    "# 1. Diffusion MRI: key points"
   ]
  },
  {
   "cell_type": "markdown",
   "metadata": {},
   "source": [
    "## <a id='Whydowedodiffusion'></a> a. Why do we do diffusion MRI ?"
   ]
  },
  {
   "cell_type": "markdown",
   "metadata": {},
   "source": [
    "- to reconstruct brain structural connectivity.\n",
    "- to quantify brain white matter integrity\n",
    "- to have an estimation of tissue microstructure (cell size/density)\n",
    "\n",
    "Lots of clinical and neuroscientific applications"
   ]
  },
  {
   "cell_type": "markdown",
   "metadata": {},
   "source": [
    "## <a id='diffusionprinciple'></a> b. Diffusion principle"
   ]
  },
  {
   "cell_type": "markdown",
   "metadata": {},
   "source": [
    "Diffusion = thermally-driven random motion (brownian motion)\n",
    "\n",
    "[Einstein 1905] :  < $x^2$ >=$6Dt$\n",
    "\n",
    "- < $x^2$ > = mean squared displacement in $m^2$, \n",
    "- $D$ = diffusion coefficient in $m^2/s$\n",
    "- $t$ = time in seconds\n",
    "\n",
    "The mean squared displacement of an ensemble of molecules is proportional to time and the diffusion coefficient.\n",
    "\n"
   ]
  },
  {
   "cell_type": "markdown",
   "metadata": {},
   "source": [
    "- Free diffusion: isotropic: a water molecule has the same probability of movement in all spatial directions\n",
    "- Diffusional processes are influenced by the geometrical structure of the environment"
   ]
  },
  {
   "cell_type": "markdown",
   "metadata": {},
   "source": [
    "## <a id='diffusioninthebrain'></a>  c. Diffusion in the brain"
   ]
  },
  {
   "cell_type": "markdown",
   "metadata": {},
   "source": [
    "In biological tissus, diffusion is restricted by cell membranes, tissue boundaries, etc.\n",
    "\n",
    "→ Apparent Diffusion Coefficient (ADC)\n",
    "\n",
    "In white matter, diffusion is anisotropic: the diffusion of water molecules is restricted perpendicular to the fiber bundles\n",
    "\n",
    "&rarr; If you have an estimation about the probability of diffusion of water molecule in 3D space, you can estimate the orientation of fiber bundles."
   ]
  },
  {
   "cell_type": "markdown",
   "metadata": {},
   "source": [
    "<a id='diffusionmrsignal'></a>  <a href='#tableofcontents'>table of contents</a>"
   ]
  },
  {
   "cell_type": "markdown",
   "metadata": {},
   "source": [
    "## d. Diffusion MRI signal"
   ]
  },
  {
   "cell_type": "markdown",
   "metadata": {},
   "source": [
    "To achieve diffusion-weighting along a direction **x**, we apply strong magnetic field gradients along **x**.\n",
    "[Stejskal & Tanner, 1965]"
   ]
  },
  {
   "cell_type": "code",
   "execution_count": 1,
   "metadata": {},
   "outputs": [
    {
     "data": {
      "image/jpeg": "[encoded data removed]",
      "text/plain": [
       "<IPython.core.display.Image object>"
      ]
     },
     "metadata": {}
    }
   ],
   "source": [
    "from IPython.display import Image\n",
    "i = Image(filename='files/stejskal-tanner1965_BergBook_2014.jpg')\n",
    "i"
   ]
  },
  {
   "cell_type": "markdown",
   "metadata": {},
   "source": [
    "- if particles remain stationary, the MR signal is not modified by the gradient\n",
    "- if particles diffuse along **x** during the diffusion time $\\Delta$, a ***signal attenuation*** is observed compared to the signal without any gradient (G = 0)."
   ]
  },
  {
   "cell_type": "markdown",
   "metadata": {},
   "source": [
    "Measured signal (S) attenuated compared to the signal obtained without diffusion weighting.\n",
    "\n",
    "Signal attenuation (SA): $SA= S/S_0=e^{-b.ADC}$\n",
    "where b is called the b-value and depends on gradient intensity and diffusion time. b determines the diffusion weighting of the acquisition.\n",
    "\n",
    "higher b-value → more diffusion contrast"
   ]
  },
  {
   "cell_type": "markdown",
   "metadata": {},
   "source": [
    "<a id='diffusionmrsignalspatialscales'></a>  <a href='#tableofcontents'>table of contents</a>"
   ]
  },
  {
   "cell_type": "markdown",
   "metadata": {},
   "source": [
    "## Exercise 1. Diffusion MR signal and spatial scales\n",
    "In practice: \n",
    "The apparent diffusion coefficient of pure water at $20°$ is about $2.4$ $\\mu m^2$/ms.\n",
    "The acquisition time between the two gradient applications is about $50ms$.\n",
    "\n",
    "- What can you say about the displacements we are looking at ? "
   ]
  },
  {
   "cell_type": "code",
   "execution_count": 2,
   "metadata": {},
   "outputs": [],
   "source": [
    "#you can do some python manipulation here"
   ]
  },
  {
   "cell_type": "markdown",
   "metadata": {},
   "source": [
    "Help: example of some numeric manipulations in python:"
   ]
  },
  {
   "cell_type": "code",
   "execution_count": null,
   "metadata": {},
   "outputs": [],
   "source": [
    "a = 3 # Definition of a variable 'a' of value '3'\n",
    "print a # print the value of a in the output\n",
    "b = a * 2 # definition of a new variable 'b' of value : the value of 'a' multiplied by 2\n",
    "c = 10**-3 # the value of the variable 'c' is 10 power -3 (= 0.001)\n",
    "\n",
    "#square root:\n",
    "import numpy as np # Python package for handling arrays and numeric manipulations in python\n",
    "print np.sqrt(4)"
   ]
  },
  {
   "cell_type": "markdown",
   "metadata": {},
   "source": [
    "<a id='manipulatediffusiondata'></a>  <a href='#tableofcontents'>table of contents</a>"
   ]
  },
  {
   "cell_type": "markdown",
   "metadata": {},
   "source": [
    "# 2. Familiarize yourself with diffusion data"
   ]
  },
  {
   "cell_type": "markdown",
   "metadata": {},
   "source": [
    "#### GOALS : \n",
    "\n",
    "- to become familiar with manipulation and visualization of diffusion MR images in  python\n",
    "- to understand diffusion phenomenon, diffusion in brain tissues and the consequences on diffusion MR signal"
   ]
  },
  {
   "cell_type": "markdown",
   "metadata": {},
   "source": [
    "## <a id='diffusionMRscannerdata'></a> a. Diffusion MR scanner data "
   ]
  },
  {
   "cell_type": "markdown",
   "metadata": {},
   "source": [
    "### After the MR acquisition, a typical diffusion dataset is composed of :\n",
    "\n",
    "- a data file : it is a 4D image containing diffusion MR volumes for different diffusion-weightings (b-values) and orientations\n",
    "\n",
    "- a bvals file : it is a text file containing the b-value associated with each diffusion orientation\n",
    "\n",
    "- a bvecs file : contains the gradient directions associated with each diffusion orientation. Each direction is a\n",
    "vector of 3 dimensions indicating gradient direction in the 3 spatial directions x, y, and z."
   ]
  },
  {
   "cell_type": "markdown",
   "metadata": {},
   "source": [
    "<a href='#tableofcontents'>table of contents</a>"
   ]
  },
  {
   "cell_type": "markdown",
   "metadata": {},
   "source": [
    "### Let's look at some diffusion data in python ! :"
   ]
  },
  {
   "cell_type": "markdown",
   "metadata": {},
   "source": [
    "The data are in \"~/BME_DWMRI/data/fsl_ftd1/subj1\" (same dataset as exercise 2.).\n",
    "The following code defines data1_dirname which holds this directory.\n",
    "Please execute it in order to define this directory in python:"
   ]
  },
  {
   "cell_type": "code",
   "execution_count": null,
   "metadata": {},
   "outputs": [],
   "source": [
    "import numpy as np # Python package for handling arrays\n",
    "import os # to have access to commands of the operating system\n",
    "from os.path import expanduser, join\n",
    "home = expanduser('~')\n",
    "print home\n",
    "data1_dirname = join(home,'BME_DWMRI','data','fsl_fdt1','subj1')\n",
    "print data1_dirname"
   ]
  },
  {
   "cell_type": "markdown",
   "metadata": {},
   "source": [
    "Let's have a look at what's in the dataset for subject 1 :"
   ]
  },
  {
   "cell_type": "code",
   "execution_count": null,
   "metadata": {},
   "outputs": [],
   "source": [
    "print os.listdir(data1_dirname)"
   ]
  },
  {
   "cell_type": "markdown",
   "metadata": {},
   "source": [
    "Here the complete filenames of the three files we are interested in :"
   ]
  },
  {
   "cell_type": "code",
   "execution_count": null,
   "metadata": {},
   "outputs": [],
   "source": [
    "dwi_fname = join(data1_dirname,'data.nii.gz')\n",
    "print dwi_fname\n",
    "bvecs_fname = join(data1_dirname ,'bvecs')\n",
    "print bvecs_fname\n",
    "bvals_fname = join(data1_dirname,'bvals')\n",
    "print bvals_fname"
   ]
  },
  {
   "cell_type": "markdown",
   "metadata": {},
   "source": [
    "The first file is in [nifti](http://nifti.nimh.nih.gov/) format, a standard neuroimaging format widely used in the neuroscientific community.\n",
    "\n",
    "It contains an image (an array of numbers) and some metadata.\n",
    "\n",
    "The [nibabel](http://nipy.org/nibabel/) module enables us to read this kind of neuroimaging-specific format :"
   ]
  },
  {
   "cell_type": "code",
   "execution_count": null,
   "metadata": {},
   "outputs": [],
   "source": [
    "import nibabel as nib\n",
    "img = nib.load(dwi_fname)\n",
    "data = img.get_data()"
   ]
  },
  {
   "cell_type": "markdown",
   "metadata": {},
   "source": [
    "You can check the type of the 'data' object and its shape by doing :"
   ]
  },
  {
   "cell_type": "code",
   "execution_count": null,
   "metadata": {},
   "outputs": [],
   "source": [
    "print \"data type : \", type(data)\n",
    "print \"data shape : \", data.shape"
   ]
  },
  {
   "cell_type": "markdown",
   "metadata": {},
   "source": [
    "'data' is a 4D array where the first three dimensions are the x, y, z coordinates and the last the number of acquired volumes."
   ]
  },
  {
   "cell_type": "markdown",
   "metadata": {},
   "source": [
    "Exemple of metadata :\n",
    "The dimensions in mm of each voxel (element of volume) can be check like this :"
   ]
  },
  {
   "cell_type": "code",
   "execution_count": null,
   "metadata": {},
   "outputs": [],
   "source": [
    "print(img.header.get_zooms()[:3])"
   ]
  },
  {
   "cell_type": "code",
   "execution_count": null,
   "metadata": {},
   "outputs": [],
   "source": [
    "%matplotlib notebook"
   ]
  },
  {
   "cell_type": "markdown",
   "metadata": {},
   "source": [
    "You can then load the b-value and bvecs files using [dipy](http://nipy.org/dipy/index.html), a python module dedicated to diffusion MRI analysis :"
   ]
  },
  {
   "cell_type": "code",
   "execution_count": null,
   "metadata": {
    "scrolled": true
   },
   "outputs": [],
   "source": [
    "# Looking at diffusion weighting\n",
    "from dipy.io import read_bvals_bvecs\n",
    "bvals, bvecs = read_bvals_bvecs(bvals_fname, bvecs_fname)\n",
    "import matplotlib.pyplot as plt # To make 2D plots\n",
    "fig, ax = plt.subplots()\n",
    "ax.plot(bvals, 'bo')\n",
    "plt.show()"
   ]
  },
  {
   "cell_type": "code",
   "execution_count": null,
   "metadata": {},
   "outputs": [],
   "source": [
    "# Extract first volume (b=0)\n",
    "from nilearn import image\n",
    "print img.shape\n",
    "first_b0_volume = image.index_img(img, 0)\n",
    "print(first_b0_volume.shape)"
   ]
  },
  {
   "cell_type": "code",
   "execution_count": null,
   "metadata": {},
   "outputs": [],
   "source": [
    "# Visualization of the first volume (b=0) using nilearn\n",
    "from nilearn import plotting\n",
    "plotting.plot_img(first_b0_volume, colorbar=True, cmap='gray', \n",
    "                  black_bg=True, vmin=-112, vmax=3139)\n",
    "plotting.plot_img(first_b0_volume, colorbar=True, cmap='gray', \n",
    "                  black_bg=True, display_mode='z', \n",
    "                  vmin=-112, vmax=3139)\n",
    "plotting.plot_img(first_b0_volume, colorbar=True, cmap='gray', \n",
    "                  black_bg=True, display_mode='y', \n",
    "                  vmin=-112, vmax=3139)\n",
    "plotting.show()"
   ]
  },
  {
   "cell_type": "markdown",
   "metadata": {},
   "source": [
    "You can extract a slice by doing:"
   ]
  },
  {
   "cell_type": "code",
   "execution_count": null,
   "metadata": {},
   "outputs": [],
   "source": [
    "slice_data = data[:, :, 32,:]\n",
    "print slice_data.shape"
   ]
  },
  {
   "cell_type": "markdown",
   "metadata": {},
   "source": [
    "You can visualize the corresponding slice in the first volume using [matplotlib](http://matplotlib.org/), in the following way :"
   ]
  },
  {
   "cell_type": "code",
   "execution_count": null,
   "metadata": {
    "scrolled": false
   },
   "outputs": [],
   "source": [
    "plt.figure()\n",
    "plt.imshow(slice_data[:,:,0].T, cmap='gray', origin= 'lower', vmin=-112, vmax=2000)\n",
    "plt.show()"
   ]
  },
  {
   "cell_type": "markdown",
   "metadata": {},
   "source": [
    "You can visualize the slice in the first and second volumes simultaneously in the following way :"
   ]
  },
  {
   "cell_type": "code",
   "execution_count": null,
   "metadata": {},
   "outputs": [],
   "source": [
    "plt.figure()\n",
    "plt.subplot(1,2,1)\n",
    "plt.imshow(slice_data[:,:,0].T, cmap='gray', origin= 'lower')\n",
    "plt.subplot(1,2,2)\n",
    "plt.imshow(slice_data[:,:,1].T, cmap='gray', origin= 'lower')\n",
    "plt.show()"
   ]
  },
  {
   "cell_type": "markdown",
   "metadata": {},
   "source": [
    "What can you say about the signal intensities ?"
   ]
  },
  {
   "cell_type": "markdown",
   "metadata": {},
   "source": [
    "  * Can you describe the differences between these two images ? (colorpalette: increasing signal values from black to white)\n",
    "In the brain ventricles for example, where the diffusion can be considered as free ? "
   ]
  },
  {
   "cell_type": "markdown",
   "metadata": {},
   "source": [
    "- In the white matter, what do you remark ? Is it consistent with what is observed in the ventricles ? And is it normal according to signal values ? How could it be explained ?\n",
    "\n",
    "(help: you can take a look at the maximum and minimum value of the slice by doing : \"slice.max()\" or \"slice.min(). You can also take a look at the help of the \"plt.imshow\" function using tab completion)"
   ]
  },
  {
   "cell_type": "markdown",
   "metadata": {},
   "source": [
    "### Help on a python function"
   ]
  },
  {
   "cell_type": "code",
   "execution_count": null,
   "metadata": {},
   "outputs": [],
   "source": [
    "help(plt.imshow)"
   ]
  },
  {
   "cell_type": "markdown",
   "metadata": {},
   "source": [
    "By default, the displayed images are normalised between 0 and 1... !"
   ]
  },
  {
   "cell_type": "code",
   "execution_count": null,
   "metadata": {},
   "outputs": [],
   "source": [
    "plt.figure()\n",
    "plt.subplot(1,2,1)\n",
    "dir1_min, dir1_max = (slice_data[:,:,1].min(), slice_data[:,:,1].max())\n",
    "plt.imshow(slice_data[:,:,0].T, cmap='gray', origin= 'lower',vmin= dir1_min, vmax= dir1_max)\n",
    "plt.subplot(1,2,2)\n",
    "plt.imshow(slice_data[:,:,1].T, cmap='gray', origin= 'lower',vmin= dir1_min, vmax= dir1_max)"
   ]
  },
  {
   "cell_type": "markdown",
   "metadata": {},
   "source": [
    "## <a id='manipulatediffusiondatapython'></a> b. Diffusion MR signal depends on brain tissue"
   ]
  },
  {
   "cell_type": "markdown",
   "metadata": {},
   "source": [
    "### Exercise 2. \n",
    "In this exercise, we are going to \n",
    "1. visualize the MR signal in different tissues :\n",
    "  * the white matter : by looking at a major fiber tract, the corpus callosum which connects the two cerebral hemispheres\n",
    "  * the cerebro spinal fluid\n",
    "  * the gray matter\n",
    "2. describe and explain the difference between these voxels in term of diffusion signal."
   ]
  },
  {
   "cell_type": "markdown",
   "metadata": {},
   "source": [
    "Here are the coordinates of the voxels of interests I selected for you :"
   ]
  },
  {
   "cell_type": "code",
   "execution_count": null,
   "metadata": {},
   "outputs": [],
   "source": [
    "# Points of interest:\n",
    "points = np.array([[48,38], [45, 60], [20, 23]])\n",
    "labels = ['cc', 'csf', 'gm']\n",
    "# cc means corpus callosum\n",
    "# csf cerebro spinal fluid\n",
    "# gm gray matter\n",
    "colors = ['red', 'green', 'pink']"
   ]
  },
  {
   "cell_type": "markdown",
   "metadata": {},
   "source": [
    "You can check if the voxels of interest are well located by executing this code :"
   ]
  },
  {
   "cell_type": "code",
   "execution_count": null,
   "metadata": {
    "scrolled": true
   },
   "outputs": [],
   "source": [
    "fig, ax = plt.subplots()\n",
    "ax.imshow(slice_data[:,:,0].T, cmap='gray', origin= 'lower', vmin=-112, vmax=2000)\n",
    "\n",
    "for i in xrange(3): # to iterate on each element of 'points', 'labels' and 'colors'\n",
    "    x = points[i, 0] # for i=0: x coordinate of corpus callosum voxel = 48\n",
    "    y = points[i, 1] # for i=0: y coordinate of corpus callosum voxel = 38\n",
    "    label = labels[i] # for i=0: label of corpus callosum voxel in the 'labels' list: = 'cc'\n",
    "    label_color = colors[i] # for i=0: color associated to corpus callosum voxel in the 'colors' list: = 'red'\n",
    "    print 'i:', i, 'x:', x, ', y:', y, ', label:', label\n",
    "\n",
    "    ax.plot(x, y, 'r+', linewidth=5, color=label_color)\n",
    "\n",
    "    plt.annotate(\n",
    "            label,\n",
    "            xy=(x, y), xytext=(-5, 5),\n",
    "            textcoords='offset points', ha='right', va='bottom',\n",
    "            bbox=dict(boxstyle='round,pad=0.2', fc=label_color, alpha=0.5))\n",
    "\n",
    "plt.show()"
   ]
  },
  {
   "cell_type": "markdown",
   "metadata": {},
   "source": [
    "You can plot the MR signal of each point of interest by executing this code : "
   ]
  },
  {
   "cell_type": "code",
   "execution_count": null,
   "metadata": {},
   "outputs": [],
   "source": [
    "# Plot profiles:\n",
    "fig, ax = plt.subplots()\n",
    "i = 0\n",
    "for i in xrange(3):\n",
    "    x = points[i, 0]\n",
    "    y = points[i, 1]\n",
    "    point_label = labels[i]\n",
    "    point_color = colors[i]\n",
    "    print 'x:', x, ', y:', y, ', label:', point_label\n",
    "    ax.plot(slice_data[x,y], point_color)\n",
    "    \n",
    "ax.legend(labels)\n",
    "\n",
    "plt.show()\n"
   ]
  },
  {
   "cell_type": "code",
   "execution_count": null,
   "metadata": {
    "scrolled": true
   },
   "outputs": [],
   "source": [
    "# Plot dwi profiles:\n",
    "fig, ax = plt.subplots()\n",
    "i = 0\n",
    "for i in xrange(3):\n",
    "    x = points[i, 0]\n",
    "    y = points[i, 1]\n",
    "    point_label = labels[i]\n",
    "    point_color = colors[i]\n",
    "    print 'x:', x, ', y:', y, ', label:', point_label\n",
    "    ax.plot(slice_data[x,y, bvals!=0], point_color)\n",
    "    \n",
    "ax.legend(labels)\n",
    "\n",
    "plt.show()"
   ]
  },
  {
   "cell_type": "markdown",
   "metadata": {},
   "source": [
    "### QUESTIONS:\n",
    "Describe and explain the difference between these voxels in term of diffusion signal :\n",
    "\n",
    "1. Which tissue has the most signal attenuation ? Could you explain why ?\n",
    "2. Compute for each tissue, the standard deviation of the diffusion signal (within diffusion weighted volumes only). \n",
    "3. What can you say about the variations of the MR signal according to diffusion weighting directions for each tissue (WM, GM, and CSF). \n",
    "4. Can you explain why ?"
   ]
  },
  {
   "cell_type": "markdown",
   "metadata": {},
   "source": [
    "Answer below."
   ]
  },
  {
   "cell_type": "markdown",
   "metadata": {},
   "source": [
    "<a id='diffusionmrsignal'></a>  <a href='#tableofcontents'>table of contents</a>"
   ]
  },
  {
   "cell_type": "markdown",
   "metadata": {},
   "source": [
    "## <a id='diffusiondirection'></a> c. Diffusion weighting directions and fiber tract orientation"
   ]
  },
  {
   "cell_type": "markdown",
   "metadata": {},
   "source": [
    "### Exercice 3. \n",
    "\n",
    "### Reminder : After the MR acquisition, a typical diffusion dataset is composed of\n",
    "\n",
    "- a dwidata file : it is a 4D image containing diffusion MR volumes for different diffusion-weights and orientations\n",
    "\n",
    "- a bvals file : it is a text file containing the b-value associated with each diffusion orientation\n",
    "\n",
    "- bvecs file : contains the gradient directions associated with each diffusion orientation. Each direction is a\n",
    "vector of 3 dimensions indicating gradient direction in the 3 spatial directions x, y, and z."
   ]
  },
  {
   "cell_type": "code",
   "execution_count": 3,
   "metadata": {},
   "outputs": [
    {
     "data": {
      "image/jpeg": "[encoded data removed]",
      "text/plain": [
       "<IPython.core.display.Image object>"
      ]
     },
     "metadata": {
      "image/jpeg": {
       "width": 600.0
      }
     }
    }
   ],
   "source": [
    "from IPython.display import Image\n",
    "i = Image(filename='files/diffusion_mr_signal.jpg', width=600)\n",
    "i"
   ]
  },
  {
   "cell_type": "code",
   "execution_count": null,
   "metadata": {},
   "outputs": [],
   "source": [
    "print bvecs[:10]"
   ]
  },
  {
   "cell_type": "markdown",
   "metadata": {},
   "source": [
    "### QUESTIONS :\n",
    "1. Using `plt.plot` function, plot the corpus callosum diffusion profile (take voxel [48, 38, 32] in 3D coordinates, corresponding to voxel [48, 38] of the 33th slice, and use the data in 'data' object)\n",
    "2. Identify the volume in which the signal is the most attenuated. (Help: use `np.argmin` function)\n",
    "3. What can you say about the diffusion weighting direction associated to this volume (look at `bvecs` values). What is the direction ? (left/right, superiori/inferior or anterior/posterior?)\n",
    "3. Can you explain why ?\n",
    "4. Do the same thing with another voxel of the corpus callosum (3D coordinates = [48, 40, 32]).\n",
    "  1. Report the index of the acquisition volume for which the MR signal in this voxel is minimum\n",
    "  2. Print the associated diffusion orientation (in bvecs)\n",
    "  3. What can you say about the orientation of the fiber tract in that voxel ? \n",
    "  4. Do you think the voxel is really in the corpus callosum ? (you can check this by plotting the voxel point of interest on the acquisition volume you found or on the first acquisition volume like in the beginning of this exercise)\n"
   ]
  },
  {
   "cell_type": "markdown",
   "metadata": {},
   "source": [
    "Answer below"
   ]
  },
  {
   "cell_type": "markdown",
   "metadata": {},
   "source": [
    "<a href='#tableofcontents'>table of contents</a>"
   ]
  },
  {
   "cell_type": "markdown",
   "metadata": {},
   "source": [
    "## <a id='newdiffusiondatasetexploration'></a> 4. Explore a new diffusion dataset"
   ]
  },
  {
   "cell_type": "markdown",
   "metadata": {},
   "source": [
    "### Exercice 4"
   ]
  },
  {
   "cell_type": "markdown",
   "metadata": {},
   "source": [
    "Load the Sherbrooke data set of dipy located in '~/BME_DWMRI/data/sherbrooke_3shell'\n",
    "\n",
    "- Describe this dataset (dimensions, number of orientations, b-values, spatial resolution). \n",
    "\n",
    "- Visualize this dataset (plot different acquisition volumes). \n",
    "\n",
    "- What can you say about the relation between the signal-to-noise ratio and the b-value ? Try to explain your observations thanks to diffusion theory."
   ]
  },
  {
   "cell_type": "markdown",
   "metadata": {},
   "source": [
    "Please answer below by inserting \"code cells\" when using python or \"markdown cells\" for text"
   ]
  },
  {
   "cell_type": "markdown",
   "metadata": {},
   "source": [
    "## <a id='localmodeling'></a>  5. Local modeling of the diffusion phenomenon"
   ]
  },
  {
   "cell_type": "markdown",
   "metadata": {},
   "source": [
    "Exemple of local modeling: the diffusion tensor model -> slide"
   ]
  },
  {
   "cell_type": "markdown",
   "metadata": {},
   "source": [
    "## <a id='localmodelingusingdipy'></a>  Exercise 5. Local Modeling using dipy"
   ]
  },
  {
   "cell_type": "markdown",
   "metadata": {},
   "source": [
    "### GOALS : \n",
    "\n",
    "- to familiarize yourself with dipy and diffusion tensor model\n",
    "\n",
    "- to apprehend the drawbacks of diffusion tensor model \n",
    "\n",
    "- to use another local modeling and understand the future impact of both models on the following tractography results"
   ]
  },
  {
   "cell_type": "markdown",
   "metadata": {},
   "source": [
    "### <a id='dtimodeldipy'></a>  a. Diffusion tensor model"
   ]
  },
  {
   "cell_type": "markdown",
   "metadata": {},
   "source": [
    "In the next cell you have a step-by-step example of fitting a diffusion tensor model to experimental data and visualizing the results.\n",
    "- Do you identify the different steps ? (Add comments to the following code to indicate the different steps)\n",
    "- Look at the image generated by this python script (or in github in '~/examples/dipy_tensor_result.png'). Is it consistent with the underlying brain anatomy ?\n",
    "\n",
    "(help: the RGB map (color superimposed on the tensor model visualization) can help you determining the directions of the fiber bundles)"
   ]
  },
  {
   "cell_type": "markdown",
   "metadata": {},
   "source": [
    "Please answer here"
   ]
  },
  {
   "cell_type": "code",
   "execution_count": null,
   "metadata": {
    "scrolled": true
   },
   "outputs": [],
   "source": [
    "# for numerical computation:\n",
    "import numpy as np\n",
    "# for loading imaging datasets\n",
    "import nibabel as nib\n",
    "from dipy.io import read_bvals_bvecs\n",
    "from dipy.core.gradients import gradient_table\n",
    "# for reconstruction with the diffusion tensor model\n",
    "import dipy.reconst.dti as dti\n",
    "from dipy.reconst.dti import fractional_anisotropy, color_fa\n",
    "from os.path import expanduser, join\n",
    "\n",
    "home = expanduser('~')\n",
    "standfordhardi_dirname = join(home,'BME_DWMRI','data','stanford_hardi')\n",
    "fdwi = join(standfordhardi_dirname,'HARDI150.nii.gz')\n",
    "fbval = join(standfordhardi_dirname, 'HARDI150.bval')\n",
    "fbvec = join(standfordhardi_dirname,'HARDI150.bvec')\n",
    "\n",
    "img = nib.load(fdwi)\n",
    "data = img.get_data()\n",
    "\n",
    "print(data.shape)\n",
    "bvals, bvecs = read_bvals_bvecs(fbval, fbvec)\n",
    "gtab = gradient_table(bvals, bvecs)\n",
    "\n",
    "print('data.shape (%d, %d, %d, %d)' % data.shape)\n",
    "\n",
    "data_small = data[20:50, 55:85, 38:39]\n",
    "\n",
    "tenmodel = dti.TensorModel(gtab)\n",
    "tenfit = tenmodel.fit(data_small)\n",
    "\n",
    "os.chdir(join(home,'BME_DWMRI','examples'))\n",
    "\n",
    "FA = fractional_anisotropy(tenfit.evals)\n",
    "\n",
    "FA[np.isnan(FA)] = 0\n",
    "\n",
    "fa_img = nib.Nifti1Image(FA.astype(np.float32), img.affine)\n",
    "nib.save(fa_img, 'tensor_fa.nii.gz')\n",
    "\n",
    "evecs_img = nib.Nifti1Image(tenfit.evecs.astype(np.float32), img.affine)\n",
    "nib.save(evecs_img, 'tensor_evecs.nii.gz')\n",
    "\n",
    "MD1 = dti.mean_diffusivity(tenfit.evals)\n",
    "nib.save(nib.Nifti1Image(MD1.astype(np.float32), img.affine), 'tensors_md.nii.gz')\n",
    "\n",
    "FA = np.clip(FA, 0, 1)\n",
    "RGB = color_fa(FA, tenfit.evecs)\n",
    "nib.save(nib.Nifti1Image(np.array(255 * RGB, 'uint8'), img.affine), 'tensor_rgb.nii.gz')\n",
    "\n",
    "from dipy.data import get_sphere\n",
    "sphere = get_sphere('symmetric724')\n",
    "\n",
    "from dipy.viz import fvtk\n",
    "ren = fvtk.ren()\n",
    "evals = tenfit.evals\n",
    "evecs = tenfit.evecs\n",
    "\n",
    "cfa = RGB\n",
    "cfa /= RGB.max()\n",
    "fvtk.add(ren, fvtk.tensor(evals, evecs, cfa, sphere))\n",
    "fvtk.record(ren, n_frames=1, out_path='dipy_tensor_result.png', size=(600, 600))"
   ]
  },
  {
   "cell_type": "markdown",
   "metadata": {},
   "source": [
    "### <a id='sphericalharmonicmodeldipy'></a>  b. Spherical harmonic model"
   ]
  },
  {
   "cell_type": "markdown",
   "metadata": {},
   "source": [
    "- Run the following python code. This will apply another model (the spherical harmonic model) to the diffusion data in order to estimate the fiberbundles orientation.\n",
    "- Compare both results (any differences ? Where ? Interpretation ?)\n",
    "- Remarks?"
   ]
  },
  {
   "cell_type": "markdown",
   "metadata": {},
   "source": [
    "Please answer here"
   ]
  },
  {
   "cell_type": "code",
   "execution_count": null,
   "metadata": {},
   "outputs": [],
   "source": [
    "import dipy.reconst.csdeconv as csd"
   ]
  },
  {
   "cell_type": "code",
   "execution_count": null,
   "metadata": {},
   "outputs": [],
   "source": [
    "response, ratio = csd.auto_response(gtab, data, roi_radius=10, fa_thr=0.7)\n",
    "csd_model = csd.ConstrainedSphericalDeconvModel(gtab, response, sh_order=8)"
   ]
  },
  {
   "cell_type": "code",
   "execution_count": null,
   "metadata": {},
   "outputs": [],
   "source": [
    "csd_fit = csd_model.fit(data_small)"
   ]
  },
  {
   "cell_type": "code",
   "execution_count": null,
   "metadata": {},
   "outputs": [],
   "source": [
    "from dipy.data import get_sphere\n",
    "sphere = get_sphere('symmetric724')\n",
    "csd_odf = csd_fit.odf(sphere)\n",
    "csd_odf.shape"
   ]
  },
  {
   "cell_type": "code",
   "execution_count": null,
   "metadata": {},
   "outputs": [],
   "source": [
    "from dipy.viz import fvtk\n",
    "ren = fvtk.ren()\n",
    "fodf_spheres = fvtk.sphere_funcs(csd_odf, sphere, scale=1.3, norm=False)\n",
    "fvtk.add(ren, fodf_spheres)\n",
    "print('Saving illustration as csd_odfs.png')\n",
    "fvtk.record(ren, out_path='dipy_csd_result.png', size=(600, 600))"
   ]
  },
  {
   "cell_type": "markdown",
   "metadata": {},
   "source": [
    "<a href='#tableofcontents'>table of contents</a>"
   ]
  },
  {
   "cell_type": "markdown",
   "metadata": {},
   "source": [
    "## <a id='tractographybonusdipy'></a>  5. Tractography"
   ]
  },
  {
   "cell_type": "markdown",
   "metadata": {},
   "source": [
    "- Read and execute the following tractography script. \n",
    "- What kind of model is used in this script ?"
   ]
  },
  {
   "cell_type": "code",
   "execution_count": null,
   "metadata": {},
   "outputs": [],
   "source": [
    "# for numerical computation:\n",
    "import numpy as np\n",
    "# for loading imaging datasets\n",
    "import nibabel as nib\n",
    "from dipy.io import read_bvals_bvecs\n",
    "from dipy.core.gradients import gradient_table\n",
    "# for reconstruction with the diffusion tensor model\n",
    "import dipy.reconst.dti as dti\n",
    "from dipy.reconst.dti import fractional_anisotropy, color_fa\n",
    "#for segmentation\n",
    "from dipy.segment.mask import median_otsu"
   ]
  },
  {
   "cell_type": "code",
   "execution_count": null,
   "metadata": {},
   "outputs": [],
   "source": [
    "print('data.shape (%d, %d, %d, %d)' % data.shape)\n"
   ]
  },
  {
   "cell_type": "code",
   "execution_count": null,
   "metadata": {},
   "outputs": [],
   "source": [
    "#######################################\n",
    "# Brain segmentation\n",
    "#######################################\n",
    "maskdata, mask = median_otsu(data, 3, 1, False,\n",
    "                             vol_idx=range(10, 50), dilate=2)"
   ]
  },
  {
   "cell_type": "code",
   "execution_count": null,
   "metadata": {},
   "outputs": [],
   "source": [
    "#######################################\n",
    "# Diffusion tensor model\n",
    "#######################################\n",
    "tenmodel = dti.TensorModel(gtab)\n",
    "tenfit = tenmodel.fit(maskdata)"
   ]
  },
  {
   "cell_type": "code",
   "execution_count": null,
   "metadata": {},
   "outputs": [],
   "source": [
    "#######################################\n",
    "# Create diffusion maps\n",
    "#######################################\n",
    "\n",
    "print('Computing anisotropy measures (FA, MD, RGB)')\n",
    "FA = fractional_anisotropy(tenfit.evals)\n",
    "\n",
    "FA[np.isnan(FA)] = 0\n",
    "\n",
    "fa_img = nib.Nifti1Image(FA.astype(np.float32), img.affine)\n",
    "nib.save(fa_img, 'tensor_fa_vol.nii.gz')\n",
    "\n",
    "evecs_img = nib.Nifti1Image(tenfit.evecs.astype(np.float32), img.affine)\n",
    "nib.save(evecs_img, 'tensor_evecs_vol.nii.gz')"
   ]
  },
  {
   "cell_type": "code",
   "execution_count": null,
   "metadata": {},
   "outputs": [],
   "source": [
    "#######################################\n",
    "# Preprocessings\n",
    "#######################################\n",
    "\n",
    "from dipy.data import get_sphere\n",
    "\n",
    "sphere = get_sphere('symmetric724')\n",
    "\n",
    "from dipy.reconst.dti import quantize_evecs\n",
    "\n",
    "evecs = tenfit.evecs\n",
    "peak_indices = quantize_evecs(evecs, sphere.vertices)\n"
   ]
  },
  {
   "cell_type": "code",
   "execution_count": null,
   "metadata": {},
   "outputs": [],
   "source": [
    "#######################################\n",
    "# Tracking\n",
    "#######################################\n",
    "\n",
    "from dipy.tracking.eudx import EuDX\n",
    "\n",
    "eu = EuDX(FA.astype('f8'), peak_indices, seeds=50000, odf_vertices = sphere.vertices, a_low=0.2)\n",
    "\n",
    "tensor_streamlines = [streamline for streamline in eu]\n",
    "\n",
    "hdr = nib.trackvis.empty_header()\n",
    "hdr['voxel_size'] = fa_img.header.get_zooms()[:3]\n",
    "hdr['voxel_order'] = 'LAS'\n",
    "hdr['dim'] = FA.shape\n",
    "\n",
    "tensor_streamlines_trk = ((sl, None, None) for sl in tensor_streamlines)\n",
    "\n",
    "ten_sl_fname = 'tensor_streamlines.trk'\n",
    "nib.trackvis.write(ten_sl_fname, tensor_streamlines_trk, hdr, points_space='voxel')\n"
   ]
  },
  {
   "cell_type": "code",
   "execution_count": null,
   "metadata": {},
   "outputs": [],
   "source": [
    "#######################################\n",
    "# Visualization\n",
    "#######################################\n",
    "\n",
    "from dipy.viz import fvtk\n",
    "\n",
    "ren = fvtk.ren()\n",
    "from dipy.viz.colormap import line_colors\n",
    "fvtk.add(ren, fvtk.streamtube(tensor_streamlines, line_colors(tensor_streamlines)))\n",
    "\n",
    "print('Saving illustration as tensor_tracks.png')\n",
    "\n",
    "ren.SetBackground(1, 1, 1)\n",
    "#fvtk.show(ren)\n",
    "fvtk.record(ren, n_frames=1, out_path='tensor_tracks.png', size=(600, 600))"
   ]
  },
  {
   "cell_type": "markdown",
   "metadata": {},
   "source": [
    "- Following an online tutorial on dipy, try to apply tractography to the other diffusion model."
   ]
  },
  {
   "cell_type": "code",
   "execution_count": null,
   "metadata": {},
   "outputs": [],
   "source": [
    "from IPython.display import HTML\n",
    "HTML('<iframe src=http://nipy.org/dipy/examples_built/tracking_quick_start.html#example-tracking-quick-start?useformat=mobile width=700 height=350></iframe>')"
   ]
  },
  {
   "cell_type": "markdown",
   "metadata": {},
   "source": [
    "Remarks ?"
   ]
  },
  {
   "cell_type": "markdown",
   "metadata": {},
   "source": [
    "<a href='#tableofcontents'>table of contents</a>"
   ]
  },
  {
   "cell_type": "markdown",
   "metadata": {},
   "source": [
    "# <a id='bonus'></a>   BONUS"
   ]
  },
  {
   "cell_type": "markdown",
   "metadata": {},
   "source": [
    "## <a id='preprocessings'></a> B1. Preprocessings : Correction for susceptibility-induced artifacts "
   ]
  },
  {
   "cell_type": "markdown",
   "metadata": {},
   "source": [
    "### GOALS :\n",
    "\n",
    "- to be aware of susceptibility-induced artifacts present in Echo Planar Imaging (MR sequence used for diffusion MRI and functional MRI)\n",
    "\n",
    "- to know what is necessary to correct these artifacts  :\n",
    " - a specific MR acquisition\n",
    " - an appropriate post-processing method (*topup* in FSL)"
   ]
  },
  {
   "cell_type": "markdown",
   "metadata": {},
   "source": [
    "## <a id='preprocessingsvisu'></a>   Visualisation of the artifacts"
   ]
  },
  {
   "cell_type": "markdown",
   "metadata": {},
   "source": [
    "Have a look at \"b0_PA.nii.gz\" and \"b0_AP.nii.gz\" images (in \"~/BME_DWMRI/data/sainte-anne_preproc\") using fslview.\n",
    "\n",
    "- Compare both images\n",
    "- Remarks?\n",
    "- Do you have any hypothesis about what you are seeing ?"
   ]
  },
  {
   "cell_type": "markdown",
   "metadata": {},
   "source": [
    "Please answer here"
   ]
  },
  {
   "cell_type": "markdown",
   "metadata": {},
   "source": [
    "The solution ? TOPUP method in FSL : \n",
    "\n",
    "The distorsions you saw are induced by the \"susceptibility effect\". Indeed, the subject head have an influence on the static magnetic field $B_0$, and causes local changes of this static field. \n",
    "As in MRI, the coordinates of the brain elements of volume are coded by a magnetic field gradient (linear changes along a direction), the susceptibility-induced changes move some brain areas and cause distortions. \n",
    "In order to get rid of these distortions, one solution is to acquire two volumes with opposite coordinates direction (opposite gradient along Y here).\n",
    "\n",
    "### CONCLUSION\n",
    "- Be careful, MRI signal can be noisy and can have big spatial distortions !!\n",
    "- a specific set up of the MR acquisition is important in EPI (sequence used in functional and diffusion MRI) in order to correct the distorsions. \n",
    "\n",
    "BEFORE the MR acquisition it is important to look at the possible image processing methods available to correct signal artifacts and to know what are the requirements of such methods (additionnal MR sequence, recording of additional information during the usual sequence...)"
   ]
  },
  {
   "cell_type": "markdown",
   "metadata": {},
   "source": [
    "## <a id='brainsegmentation'></a> B2. Brain segmentation and diffusion weighted imaging\n",
    "\n",
    "In the following, we will :\n",
    "  * apply a segmentation method (median_otsu of dipy) to segment the brain volume based on diffusion MRI data\n",
    "  * apply a clustering algorithm to diffusion profiles in order to segment the brain tissues..."
   ]
  },
  {
   "cell_type": "code",
   "execution_count": null,
   "metadata": {
    "scrolled": true
   },
   "outputs": [],
   "source": [
    "import numpy as np # Python package for handling arrays\n",
    "import os # to have access to commands of the operating system\n",
    "from os.path import expanduser, join\n",
    "home = expanduser('~')\n",
    "print home\n",
    "data1_dirname = join(home,'BME_DWMRI','data','fsl_fdt1','subj1')\n",
    "print data1_dirname"
   ]
  },
  {
   "cell_type": "code",
   "execution_count": null,
   "metadata": {},
   "outputs": [],
   "source": [
    "print os.listdir(data1_dirname)"
   ]
  },
  {
   "cell_type": "code",
   "execution_count": null,
   "metadata": {},
   "outputs": [],
   "source": [
    "dwi_fname = join(data1_dirname,'data.nii.gz')\n",
    "print dwi_fname\n",
    "bvecs_fname = join(data1_dirname ,'bvecs')\n",
    "print bvecs_fname\n",
    "bvals_fname = join(data1_dirname,'bvals')\n",
    "print bvals_fname"
   ]
  },
  {
   "cell_type": "code",
   "execution_count": null,
   "metadata": {},
   "outputs": [],
   "source": [
    "img = nib.load(dwi_fname)\n",
    "data = img.get_data()"
   ]
  },
  {
   "cell_type": "code",
   "execution_count": null,
   "metadata": {},
   "outputs": [],
   "source": [
    "# Brain segmentation with median_otsu\n",
    "from dipy.segment.mask import median_otsu\n",
    "segmented_data, mask = median_otsu(data, median_radius=2, numpass=2) #advised in dipy tutorial"
   ]
  },
  {
   "cell_type": "code",
   "execution_count": null,
   "metadata": {
    "scrolled": false
   },
   "outputs": [],
   "source": [
    "print 'segmented_data shape:', segmented_data.shape\n",
    "print 'mask shape:', mask.shape"
   ]
  },
  {
   "cell_type": "markdown",
   "metadata": {},
   "source": [
    "Saving the segmentation results is very easy using nibabel. We need the segmented_data, and the binary mask volumes. The affine matrix which transform the image’s coordinates to the world coordinates is also needed. Here, we choose to save both images in float32."
   ]
  },
  {
   "cell_type": "code",
   "execution_count": null,
   "metadata": {},
   "outputs": [],
   "source": [
    "segmented_img = nib.Nifti1Image(segmented_data.astype(np.float32), img.affine)\n",
    "binary_mask_img = nib.Nifti1Image(mask.astype(np.float32), img.affine)            "
   ]
  },
  {
   "cell_type": "code",
   "execution_count": null,
   "metadata": {},
   "outputs": [],
   "source": [
    "# Visualization of the first masked volume\n",
    "first_b0_segmented_volume = image.index_img(segmented_img, 0)\n",
    "print(first_b0_segmented_volume.shape)\n",
    "plotting.plot_img(first_b0_volume, colorbar=True, cmap='gray', \n",
    "                  black_bg=True, display_mode='z', \n",
    "                  vmin=-112, vmax=3139)\n",
    "plotting.plot_img(first_b0_segmented_volume, colorbar=True, cmap='gray', \n",
    "                  black_bg=True, display_mode='z', \n",
    "                  vmin=-112, vmax=3139,\n",
    "                  cut_coords=(14, 26, 36, 44, 54, 64, 74))\n",
    "plotting.plot_roi(roi_img=binary_mask_img, bg_img=first_b0_volume, display_mode='z',\n",
    "                  cut_coords=(14, 26, 36, 44, 54, 64, 74))\n",
    "                  #cut_coords=(-40, -26, -14, 0, 20, 34, 46))\n",
    "plotting.show()"
   ]
  },
  {
   "cell_type": "code",
   "execution_count": null,
   "metadata": {},
   "outputs": [],
   "source": [
    "help(median_otsu)"
   ]
  },
  {
   "cell_type": "code",
   "execution_count": null,
   "metadata": {},
   "outputs": [],
   "source": [
    "segmented_data, mask = median_otsu(data, median_radius=2, numpass=2, dilate=2)\n",
    "segmented_img = nib.Nifti1Image(segmented_data.astype(np.float32), img.affine)\n",
    "binary_mask_img = nib.Nifti1Image(mask.astype(np.float32), img.affine)       \n",
    "# Visualization of the first masked volume\n",
    "first_b0_segmented_volume = image.index_img(segmented_img, 0)\n",
    "plotting.plot_img(first_b0_volume, colorbar=True, cmap='gray', \n",
    "                  black_bg=True, display_mode='z', \n",
    "                  vmin=-112, vmax=3139)\n",
    "plotting.plot_img(first_b0_segmented_volume, colorbar=True, cmap='gray', \n",
    "                  black_bg=True, display_mode='z', \n",
    "                  vmin=-112, vmax=3139,\n",
    "                  cut_coords=(14, 26, 36, 44, 54, 64, 74))\n",
    "plotting.plot_roi(roi_img=binary_mask_img, bg_img=first_b0_volume, display_mode='z',\n",
    "                  cut_coords=(14, 26, 36, 44, 54, 64, 74))\n",
    "                  #cut_coords=(-40, -26, -14, 0, 20, 34, 46))\n",
    "                  \n",
    "plotting.show()"
   ]
  },
  {
   "cell_type": "code",
   "execution_count": null,
   "metadata": {
    "scrolled": true
   },
   "outputs": [],
   "source": [
    "from nilearn.input_data import NiftiMasker\n",
    "masker = NiftiMasker(mask_img=binary_mask_img)\n",
    "print img.get_data().shape\n",
    "obs_data = masker.fit_transform(img)\n",
    "voxels_profiles = obs_data.T\n",
    "print obs_data.shape\n",
    "print voxels_profiles.shape"
   ]
  },
  {
   "cell_type": "code",
   "execution_count": null,
   "metadata": {},
   "outputs": [],
   "source": [
    "# Clustering voxels according to dwi profile:\n",
    "from sklearn.cluster import k_means\n",
    "prototypes, labels, _ = k_means(obs_data.T, n_clusters=4)"
   ]
  },
  {
   "cell_type": "code",
   "execution_count": null,
   "metadata": {
    "scrolled": true
   },
   "outputs": [],
   "source": [
    "prototypes.shape"
   ]
  },
  {
   "cell_type": "code",
   "execution_count": null,
   "metadata": {},
   "outputs": [],
   "source": [
    "import matplotlib\n",
    "colours =['green', 'blue', 'orange', 'red']"
   ]
  },
  {
   "cell_type": "code",
   "execution_count": null,
   "metadata": {},
   "outputs": [],
   "source": [
    "#plt.plot(prototypes.T)\n",
    "for i, color in enumerate(colours):\n",
    "    plt.plot(prototypes[i], color, label=str(i+1))\n",
    "plt.legend()\n",
    "plt.show()"
   ]
  },
  {
   "cell_type": "code",
   "execution_count": null,
   "metadata": {},
   "outputs": [],
   "source": [
    "# Find b=0 volumes\n",
    "plt.plot(bvals, '.')\n",
    "plt.show()\n",
    "bvals.shape"
   ]
  },
  {
   "cell_type": "code",
   "execution_count": null,
   "metadata": {},
   "outputs": [],
   "source": []
  },
  {
   "cell_type": "code",
   "execution_count": null,
   "metadata": {
    "scrolled": true
   },
   "outputs": [],
   "source": [
    "for i, color in enumerate(colours):\n",
    "    plt.plot(prototypes[i,bvals!=0].T, color, label=str(i+1))\n",
    "plt.legend()\n",
    "plt.show()\n",
    "#help(plt.plot)"
   ]
  },
  {
   "cell_type": "code",
   "execution_count": null,
   "metadata": {},
   "outputs": [],
   "source": [
    "cmap = matplotlib.colors.ListedColormap(colours)"
   ]
  },
  {
   "cell_type": "code",
   "execution_count": null,
   "metadata": {},
   "outputs": [],
   "source": [
    "np.unique(labels)\n"
   ]
  },
  {
   "cell_type": "code",
   "execution_count": null,
   "metadata": {},
   "outputs": [],
   "source": [
    "# plot label on brain volume\n",
    "plotting.plot_img(first_b0_segmented_volume, black_bg=True, display_mode='z', \n",
    "                  vmin=-112, vmax=3139, cmap='gray', colorbar=True)\n",
    "plotting.plot_roi(masker.inverse_transform(labels+1), bg_img=first_b0_segmented_volume,\n",
    "                 cmap=cmap, display_mode='z', cut_coords=(-14, 26, 36, 44, 54, 64, 74))\n",
    "\n",
    "plotting.show()"
   ]
  },
  {
   "cell_type": "code",
   "execution_count": null,
   "metadata": {},
   "outputs": [],
   "source": [
    "labels_img = masker.inverse_transform(labels+1)\n",
    "labels_data = labels_img.get_data()\n",
    "data = img.get_data()\n",
    "for i, color in enumerate(colours):\n",
    "    plt.plot(data[labels_data==i+1][0], color, label=str(i+1))\n",
    "plt.legend()\n",
    "plt.show()"
   ]
  },
  {
   "cell_type": "markdown",
   "metadata": {},
   "source": [
    "<a href='#tableofcontents'>table of contents</a>"
   ]
  },
  {
   "cell_type": "markdown",
   "metadata": {},
   "source": [
    "## <a id='localmodelingbonusfsl'></a>   B3. Local modeling using FSL"
   ]
  },
  {
   "cell_type": "markdown",
   "metadata": {},
   "source": [
    "In order to reconstruct DTI data with FSL, please have a look at the section 'DTI - fitting diffusion tensor' the FSL tutorial.\n",
    "Follow the instruction (data are in '~/BME_DWMRI/data/fsl_fdt1/subj1')"
   ]
  },
  {
   "cell_type": "code",
   "execution_count": null,
   "metadata": {},
   "outputs": [],
   "source": [
    "from IPython.display import HTML\n",
    "HTML('<iframe src=http://fsl.fmrib.ox.ac.uk/fslcourse/lectures/practicals/fdt1/index.html#dtifit?useformat=mobile width=700 height=350></iframe>')"
   ]
  },
  {
   "cell_type": "markdown",
   "metadata": {},
   "source": [
    "You can put your comments here"
   ]
  },
  {
   "cell_type": "markdown",
   "metadata": {},
   "source": [
    "## <a id='tractographybonusfsl'></a>   B4. Tractography with FSL"
   ]
  },
  {
   "cell_type": "markdown",
   "metadata": {},
   "source": [
    "### GOALS:\n",
    "\n",
    "- to manipulate FSL to perform tractography\n",
    "- to be aware that a \"tract\" or a connectivity probability map are only approximations of the real brain fiber bundles."
   ]
  },
  {
   "cell_type": "markdown",
   "metadata": {},
   "source": [
    "Data directory for this part: \"~/tp/data/fsl_fdt2/subj1.bedpostX\""
   ]
  },
  {
   "cell_type": "markdown",
   "metadata": {},
   "source": [
    "### EXERCISE \n",
    "(extract of FSL practical on Tractography)\n",
    "\n",
    "#### 1.\n",
    "Open mean_f1_samples with fslview and find the coordinates of a voxel in the internal capsula. (I will show you). \n",
    "Run FtdGUI, with the following parameters: \"ProbTrackx\" with \"single voxel\"\n",
    "\n",
    "- Select \"subj1.betpostX\" as the Bedpostx directory\n",
    "- enter the coordinates of the voxel you selected\n",
    "- choose an output name and press Go\n",
    "- visualize the results ( FSL tutorial...)\n",
    "- Remarks ?\n",
    "\n",
    "#### 2.\n",
    "\n",
    "Do the same, but with another diffusion modeling provided by FSL (data are in'~/tp_bme/dwi/data/fsl_fdt2/subj1_2fibres.bedpostX'). \n",
    "\n",
    "- Load the results using fslview\n",
    "- Compare both results. \n",
    "- Remarks?\n",
    "\n"
   ]
  },
  {
   "cell_type": "markdown",
   "metadata": {},
   "source": [
    "Answer here"
   ]
  },
  {
   "cell_type": "markdown",
   "metadata": {},
   "source": [
    "<a href='#tableofcontents'>table of contents</a>"
   ]
  }
 ],
 "metadata": {
  "kernelspec": {
   "display_name": "Python 2",
   "language": "python",
   "name": "python2"
  },
  "language_info": {
   "codemirror_mode": {
    "name": "ipython",
    "version": 2
   },
   "file_extension": ".py",
   "mimetype": "text/x-python",
   "name": "python",
   "nbconvert_exporter": "python",
   "pygments_lexer": "ipython2",
   "version": "2.7.14"
  }
 },
 "nbformat": 4,
 "nbformat_minor": 1
}
